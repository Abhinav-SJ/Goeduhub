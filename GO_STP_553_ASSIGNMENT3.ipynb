{
  "nbformat": 4,
  "nbformat_minor": 0,
  "metadata": {
    "colab": {
      "name": "GO_STP_553  ASSIGNMENT 3.ipynb",
      "provenance": [],
      "collapsed_sections": []
    },
    "kernelspec": {
      "name": "python3",
      "display_name": "Python 3"
    },
    "language_info": {
      "name": "python"
    }
  },
  "cells": [
    {
      "cell_type": "markdown",
      "metadata": {
        "id": "kt-bV7Etk-p_"
      },
      "source": [
        "1)\n"
      ]
    },
    {
      "cell_type": "code",
      "metadata": {
        "colab": {
          "base_uri": "https://localhost:8080/"
        },
        "id": "k7Ss8wFHlDLc",
        "outputId": "5d77e198-292c-4d24-f573-eeb3d73c7108"
      },
      "source": [
        "markdict = {\"Tom\":67, \"Tina\": 54, \"Akbar\": 87, \"Kane\": 43, \"Divya\":73}\n",
        "marklist = sorted(markdict.items(), key=lambda x:x[1])\n",
        "print(dict(marklist))\n",
        "marklist.reverse()\n",
        "print(dict(marklist))"
      ],
      "execution_count": 14,
      "outputs": [
        {
          "output_type": "stream",
          "text": [
            "{'Kane': 43, 'Tina': 54, 'Tom': 67, 'Divya': 73, 'Akbar': 87}\n",
            "{'Akbar': 87, 'Divya': 73, 'Tom': 67, 'Tina': 54, 'Kane': 43}\n"
          ],
          "name": "stdout"
        }
      ]
    },
    {
      "cell_type": "markdown",
      "metadata": {
        "id": "_15e-59Zm6QL"
      },
      "source": [
        "2)"
      ]
    },
    {
      "cell_type": "code",
      "metadata": {
        "colab": {
          "base_uri": "https://localhost:8080/"
        },
        "id": "ZITzMXgqnBb4",
        "outputId": "3eaeb8dc-b06b-406d-db2b-ed82e477e494"
      },
      "source": [
        "d = {0: 10, 1: 20}\n",
        "print(d)\n",
        "key = int(input(\"Enter a key:\"))\n",
        "value= int(input(\"Enter value of key:\"))\n",
        "d[key] = value\n",
        "print(d)"
      ],
      "execution_count": null,
      "outputs": [
        {
          "output_type": "stream",
          "text": [
            "{0: 10, 1: 20}\n",
            "Enter a key:2\n",
            "Enter value of key:30\n",
            "{0: 10, 1: 20, 2: 30}\n"
          ],
          "name": "stdout"
        }
      ]
    },
    {
      "cell_type": "markdown",
      "metadata": {
        "id": "cUmFQ8FWohq3"
      },
      "source": [
        "3)"
      ]
    },
    {
      "cell_type": "code",
      "metadata": {
        "colab": {
          "base_uri": "https://localhost:8080/"
        },
        "id": "rCJIcpE3ownc",
        "outputId": "727ece7f-a30a-4eca-ca4e-6b2eb3dd71b0"
      },
      "source": [
        "dict ={}\n",
        "while(1):\n",
        "  city = input(\"Enter name of the city:\")\n",
        "  temp= float(input(\"Enter temperature:\"))\n",
        "  dict[city] = temp\n",
        "  c = input(\"Do you want to continue?(Y/N)\")\n",
        "  if c == 'N':\n",
        "    break\n",
        "city = input(\"Enter city name to search:\")\n",
        "if city in dict.keys():\n",
        "  print(\"Temperature of\",city,\"is:\")\n",
        "  print(dict[city])  \n",
        "else:\n",
        "  print(\"City not found\")"
      ],
      "execution_count": null,
      "outputs": [
        {
          "output_type": "stream",
          "text": [
            "Enter name of the city:TVM\n",
            "Enter temperature:27\n",
            "Do you want to continue?(Y/N)Y\n",
            "Enter name of the city:KOLLAM\n",
            "Enter temperature:29\n",
            "Do you want to continue?(Y/N)N\n",
            "Enter city name to search:TVM\n",
            "Temperature of TVM is:\n",
            "27.0\n"
          ],
          "name": "stdout"
        }
      ]
    },
    {
      "cell_type": "markdown",
      "metadata": {
        "id": "eOtPqOWhq0TR"
      },
      "source": [
        "4)"
      ]
    },
    {
      "cell_type": "code",
      "metadata": {
        "colab": {
          "base_uri": "https://localhost:8080/"
        },
        "id": "E0CVHl6_rAWr",
        "outputId": "8c659b80-7614-406e-ee03-0dbb1d46ad03"
      },
      "source": [
        "l1= [\"Black\", \"Red\", \"Maroon\", \"Yellow\"]\n",
        "m1= [\"#000000\", \"#FF0000\", \"#800000\", \"#FFFF00\"]\n",
        "l=[]\n",
        "for i in range(4):\n",
        "  l.append({\"color_name\":l1[i],'color_code':m1[i]})\n",
        "l"
      ],
      "execution_count": 15,
      "outputs": [
        {
          "output_type": "execute_result",
          "data": {
            "text/plain": [
              "[{'color_code': '#000000', 'color_name': 'Black'},\n",
              " {'color_code': '#FF0000', 'color_name': 'Red'},\n",
              " {'color_code': '#800000', 'color_name': 'Maroon'},\n",
              " {'color_code': '#FFFF00', 'color_name': 'Yellow'}]"
            ]
          },
          "metadata": {
            "tags": []
          },
          "execution_count": 15
        }
      ]
    },
    {
      "cell_type": "markdown",
      "metadata": {
        "id": "ifN2uSZCukFW"
      },
      "source": [
        "5) i)"
      ]
    },
    {
      "cell_type": "code",
      "metadata": {
        "colab": {
          "base_uri": "https://localhost:8080/"
        },
        "id": "DhUfj7Y7uoxh",
        "outputId": "de51913a-efc0-4ac7-f5ae-b741cd74450e"
      },
      "source": [
        "info ={}\n",
        "info['John'] = 14\n",
        "info['Smith'] = 13\n",
        "info['Alice'] = 32\n",
        "info['Daneil'] = 21\n",
        "print(info)\n"
      ],
      "execution_count": null,
      "outputs": [
        {
          "output_type": "stream",
          "text": [
            "{'John': 14, 'Smith': 13, 'Alice': 32, 'Daneil': 21}\n"
          ],
          "name": "stdout"
        }
      ]
    },
    {
      "cell_type": "markdown",
      "metadata": {
        "id": "u62ux3sMvWcz"
      },
      "source": [
        "5) ii)"
      ]
    },
    {
      "cell_type": "code",
      "metadata": {
        "colab": {
          "base_uri": "https://localhost:8080/"
        },
        "id": "rTC-6LABvYqd",
        "outputId": "3e1f2056-dcdd-4650-c3f8-cd1a80d11d25"
      },
      "source": [
        "info ={}\n",
        "info['John'] = 14\n",
        "info['Smith'] = 13\n",
        "info['Alice'] = 32\n",
        "info['Daneil'] = 21\n",
        "\n",
        "print(\"Menu 1.Print 2.Add 3.Remove 4.Query 5.Exit\")\n",
        "f = 1\n",
        "while(f == 1):\n",
        "  c = int(input(\"Enter choice:\"))\n",
        "  if c == 1:\n",
        "    for k in info.keys():\n",
        "      print(k,\"==>\",info[k])\n",
        "  elif c == 2:\n",
        "    name = input(\"Enter employee name:\")\n",
        "    if name in info.keys():\n",
        "      print(\"Employee name already present\")\n",
        "    else:\n",
        "      sal = int(input(\"Enter salary:\"))\n",
        "      info[name] = sal\n",
        "      print(info)\n",
        "  elif c == 3:\n",
        "    name = input(\"Enter employee name:\")\n",
        "    if name in info.keys():\n",
        "      info.pop(name)\n",
        "      print(info)\n",
        "    else:\n",
        "      print(\"Name not found\")\n",
        "  elif c == 4:\n",
        "    name = input(\"Enter employee name:\")\n",
        "    print(\"Salary of\",name,\"is\",info[name])\n",
        "  elif c == 5:\n",
        "    print(\"Exiting\")\n",
        "    f = 0\n",
        "  else:\n",
        "    print(\"Invalid Input\")\n"
      ],
      "execution_count": null,
      "outputs": [
        {
          "output_type": "stream",
          "text": [
            "Menu 1.Print 2.Add 3.Remove 4.Query 5.Exit\n",
            "Enter choice:1\n",
            "John ==> 14\n",
            "Smith ==> 13\n",
            "Alice ==> 32\n",
            "Daneil ==> 21\n",
            "Enter choice:2\n",
            "Enter employee name:Sanjay\n",
            "Enter salary:35\n",
            "{'John': 14, 'Smith': 13, 'Alice': 32, 'Daneil': 21, 'Sanjay': 35}\n",
            "Enter choice:3\n",
            "Enter employee name:Smith\n",
            "{'John': 14, 'Alice': 32, 'Daneil': 21, 'Sanjay': 35}\n",
            "Enter choice:4\n",
            "Enter employee name:John\n",
            "Salary of John is 14\n",
            "Enter choice:5\n",
            "Exiting\n"
          ],
          "name": "stdout"
        }
      ]
    },
    {
      "cell_type": "markdown",
      "metadata": {
        "id": "ZZ8K_EW_zyrs"
      },
      "source": [
        "SETS"
      ]
    },
    {
      "cell_type": "markdown",
      "metadata": {
        "id": "w_KsWlZDz32m"
      },
      "source": [
        "1)Frozen set is just an immutable version of a Python set object. While elements of a set can be modified at any time, elements of the frozen set remain the same after creation."
      ]
    },
    {
      "cell_type": "code",
      "metadata": {
        "colab": {
          "base_uri": "https://localhost:8080/"
        },
        "id": "Sej7lgFI0IV3",
        "outputId": "a2e282b9-ae9f-4843-9582-2d095799b4f9"
      },
      "source": [
        "number = set([1,2,3])\n",
        "print(\"Set is\",number)\n",
        "number.add(4)\n",
        "print(\"Updated Set is\",number)\n",
        "number = frozenset(number)\n",
        "try:\n",
        "  number.add(5)\n",
        "  print(number)\n",
        "except:\n",
        "  print(\"Frozen set is immutable\")"
      ],
      "execution_count": null,
      "outputs": [
        {
          "output_type": "stream",
          "text": [
            "Set is {1, 2, 3}\n",
            "Updated Set is {1, 2, 3, 4}\n",
            "Frozen set is immutable\n"
          ],
          "name": "stdout"
        }
      ]
    },
    {
      "cell_type": "markdown",
      "metadata": {
        "id": "hcP5tMAa1wAK"
      },
      "source": [
        "2)"
      ]
    },
    {
      "cell_type": "code",
      "metadata": {
        "colab": {
          "base_uri": "https://localhost:8080/"
        },
        "id": "gABi4yuh12YU",
        "outputId": "6dcfcec7-5f5c-42c1-8ce5-420696510d77"
      },
      "source": [
        "set1 = {10,20,30,40,50}\n",
        "set2 = {40,50,60,70,80}\n",
        "print(\"Set1 - Set2 is\",set1.difference(set2))\n",
        "print(\"Set2 - Set1 is\",set2.difference(set1))"
      ],
      "execution_count": null,
      "outputs": [
        {
          "output_type": "stream",
          "text": [
            "Set1 - Set2 is {10, 20, 30}\n",
            "Set2 - Set1 is {80, 60, 70}\n"
          ],
          "name": "stdout"
        }
      ]
    }
  ]
}