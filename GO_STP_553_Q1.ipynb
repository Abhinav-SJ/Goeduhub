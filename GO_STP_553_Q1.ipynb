{
  "nbformat": 4,
  "nbformat_minor": 0,
  "metadata": {
    "colab": {
      "name": "GO_STP_553_Q1.ipynb",
      "provenance": [],
      "collapsed_sections": []
    },
    "kernelspec": {
      "name": "python3",
      "display_name": "Python 3"
    },
    "language_info": {
      "name": "python"
    }
  },
  "cells": [
    {
      "cell_type": "code",
      "metadata": {
        "colab": {
          "base_uri": "https://localhost:8080/"
        },
        "id": "9K80bK0HyJmb",
        "outputId": "97755a23-45be-4e8b-aeed-35e5937140fa"
      },
      "source": [
        "Colors = [\"Yellow\",\"Green\",\"White\",\"Black\"]\n",
        "Fruits=[\"Apple\",\"Papaya\",\"Mango\",\"Orange\"]\n",
        "Animals=[\"Tiger\",\"Lion\",\"Deer\",\"Zebra\"]\n",
        "\n",
        "value = input(\"Enter name of a Color/Fruit/Animal:\")\n",
        "if (value in Colors):\n",
        "  print(value,\"is a Color\")\n",
        "elif(value in Fruits):\n",
        "  print(value,\"is a Fruit\")\n",
        "elif(value in Animals):\n",
        "  print(value,\"is a Animal\")\n",
        "else:\n",
        "  print(\"Sorry: Value not found in any category\")\n",
        "\n",
        "\n",
        "a = input(\"Enter name of a Color/Fruit/Animal:\")\n",
        "b = input(\"Enter name of a Color/Fruit/Animal:\")\n",
        "if(a in Colors and b in Colors):\n",
        "  print(a,\"and\",b,\"are both colors\")\n",
        "elif(a in Fruits and b in Fruits):\n",
        "  print(a,\"and\",b,\"are both fruits\")\n",
        "elif(a in Animals and b in Animals):\n",
        "  print(a,\"and\",b,\"are both animals\")\n",
        "else:\n",
        "  print(a,\"and\",b,\"do not belong to same category\")"
      ],
      "execution_count": 17,
      "outputs": [
        {
          "output_type": "stream",
          "text": [
            "Enter name of a Color/Fruit/Animal:White\n",
            "White is a Color\n",
            "Enter name of a Color/Fruit/Animal:Apple\n",
            "Enter name of a Color/Fruit/Animal:Black\n",
            "Apple and Black do not belong to same category\n"
          ],
          "name": "stdout"
        }
      ]
    },
    {
      "cell_type": "code",
      "metadata": {
        "id": "IBKX0iWV1sir"
      },
      "source": [
        ""
      ],
      "execution_count": null,
      "outputs": []
    }
  ]
}