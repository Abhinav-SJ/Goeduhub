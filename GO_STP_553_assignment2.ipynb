{
  "nbformat": 4,
  "nbformat_minor": 0,
  "metadata": {
    "colab": {
      "name": "Goeduhub assignment2.ipynb",
      "provenance": [],
      "collapsed_sections": []
    },
    "kernelspec": {
      "name": "python3",
      "display_name": "Python 3"
    },
    "language_info": {
      "name": "python"
    }
  },
  "cells": [
    {
      "cell_type": "code",
      "metadata": {
        "id": "onyetxLSYdVV"
      },
      "source": [
        ""
      ],
      "execution_count": null,
      "outputs": []
    },
    {
      "cell_type": "markdown",
      "metadata": {
        "id": "W85OLMxyYlhD"
      },
      "source": [
        "1)Yes.List is a mutable data structure. We can change the values of a list by just assigning the new value to the particular index of the list.\n",
        "For example: The 3rd element(element at index 2) of a list 'A' can be assigned a new value '5' as follows:\n",
        "A[2] = 5.\n",
        "\n",
        "2)No. A list need not be homogeneous.It can contain elements of any an type.Unlike an array, it does not have restrictions in the data type of elements.\n",
        "The elements of a list can be of any data type.\n",
        "\n",
        "3)A list is mutable while a tuple is immutable. This means that we can change any element of a list by using its index in that list. But, we can't change the value of an element in tuple. Once defined, the elements of tuple remains the same.\n",
        "\n",
        "4) We can get the number of elements in a list is to use the Python built-in function len(). The len() function returns the length of the list ,i.e the number of elements in the list.\n",
        "\n",
        "5)We can get the number of elements in a list using the built-in function len().If the value returned by the len() function is greater than zero, then the list is not empty. Otherwise, the list is empty.\n",
        "\n",
        "6)First element of a list can be found by displaying the value of list[0] and the last element can be found by displaying the value of list[-1]\n",
        "\n",
        "7)First sort the array in ascending order using teh built-in function sort().\n",
        "Then the smallest element will be at index 0 and largest index will be at index -1. \n",
        "\n",
        "8)Elements of a list can be accessed using their indices in the list. If there are n elements in a list, list index ranges from 0 to n-1.\n",
        "\n",
        "9) The code is shown below:\n"
      ]
    },
    {
      "cell_type": "code",
      "metadata": {
        "colab": {
          "base_uri": "https://localhost:8080/"
        },
        "id": "FyqW9hwTfbHQ",
        "outputId": "fee33c65-9496-4f0c-c767-02cb1405192a"
      },
      "source": [
        "list = [2,3,4,5,6]\n",
        "print(list)\n",
        "n = int(input(\"Enter index before which the elements to be deleted:\"))\n",
        "for i in range(n+1):\n",
        "  list.pop(i)\n",
        "print(list)"
      ],
      "execution_count": null,
      "outputs": [
        {
          "output_type": "stream",
          "text": [
            "[2, 3, 4, 5, 6]\n",
            "Enter index before which the elements to be deleted:2\n",
            "[3, 5]\n"
          ],
          "name": "stdout"
        }
      ]
    },
    {
      "cell_type": "markdown",
      "metadata": {
        "id": "NwCJ55NmgWCd"
      },
      "source": [
        ""
      ]
    },
    {
      "cell_type": "markdown",
      "metadata": {
        "id": "s4Eb7aNDgpWX"
      },
      "source": [
        "10) The code is shown below:"
      ]
    },
    {
      "cell_type": "code",
      "metadata": {
        "id": "otv7XxZpYzu9",
        "colab": {
          "base_uri": "https://localhost:8080/"
        },
        "outputId": "6fe6cbe9-1951-4f38-d56e-5621756b7c34"
      },
      "source": [
        "list =[1,2,3,4,5,6,7,8]\n",
        "print(list)\n",
        "a = int(input(\"Enter starting index in deletion:\"))\n",
        "b = int(input(\"Enter last index in deletion:\"))\n",
        "for i in range(a,b+1):\n",
        "  list.pop(i)\n",
        "print(list)\n"
      ],
      "execution_count": null,
      "outputs": [
        {
          "output_type": "stream",
          "text": [
            "[1, 2, 3, 4, 5, 6, 7, 8]\n",
            "Enter starting index in deletion:1\n",
            "Enter last index in deletion:3\n",
            "[1, 3, 5, 7, 8]\n"
          ],
          "name": "stdout"
        }
      ]
    },
    {
      "cell_type": "markdown",
      "metadata": {
        "id": "x92JXR0MYkBk"
      },
      "source": [
        ""
      ]
    },
    {
      "cell_type": "markdown",
      "metadata": {
        "id": "mNdFLNBvhPvy"
      },
      "source": [
        "11) The code is shown below:"
      ]
    },
    {
      "cell_type": "code",
      "metadata": {
        "colab": {
          "base_uri": "https://localhost:8080/"
        },
        "id": "TIqFu0p9hS6J",
        "outputId": "e7613daa-f389-41b1-de66-6851f45ba699"
      },
      "source": [
        "list =[1,2,3,4,5,6,7,8,9,10]\n",
        "print(list)\n",
        "a = int(input(\"Enter starting index in deletion:\"))\n",
        "b = int(input(\"Enter last index in deletion:\"))\n",
        "for i in range(a+2,b,2):\n",
        "  print(list[i])\n",
        "\n"
      ],
      "execution_count": null,
      "outputs": [
        {
          "output_type": "stream",
          "text": [
            "[1, 2, 3, 4, 5, 6, 7, 8, 9, 10]\n",
            "Enter starting index in deletion:1\n",
            "Enter last index in deletion:9\n",
            "4\n",
            "6\n",
            "8\n"
          ],
          "name": "stdout"
        }
      ]
    },
    {
      "cell_type": "markdown",
      "metadata": {
        "id": "Q1TnS5C-iCXR"
      },
      "source": [
        "12)The code is shown below:"
      ]
    },
    {
      "cell_type": "code",
      "metadata": {
        "colab": {
          "base_uri": "https://localhost:8080/"
        },
        "id": "h7dHHHWoiKNz",
        "outputId": "1864e23d-21aa-4bdf-cbd9-48cbc2d59a98"
      },
      "source": [
        "list=[[1,2,3],[4,5,6],[7,8,9]]\n",
        "for i in range(len(list)):\n",
        "  print(list[i][0])"
      ],
      "execution_count": null,
      "outputs": [
        {
          "output_type": "stream",
          "text": [
            "1\n",
            "4\n",
            "7\n"
          ],
          "name": "stdout"
        }
      ]
    },
    {
      "cell_type": "markdown",
      "metadata": {
        "id": "-rUcb1LCiZy_"
      },
      "source": [
        "13) To change a list element we use, list name followed by the index position inside the square brackets ([]), and then provides the new value using the Equal sign.\n",
        "\n",
        "list_name[index_position] = \"New Value\"\n",
        "\n",
        "14)We can concatenate 2 lists using '+' operator."
      ]
    },
    {
      "cell_type": "code",
      "metadata": {
        "colab": {
          "base_uri": "https://localhost:8080/"
        },
        "id": "DNlKN2lgjB-6",
        "outputId": "bfee78eb-0950-42db-e6c1-6f13421656c5"
      },
      "source": [
        "list1 = [1,2,3,4]\n",
        "list2 = [5,6,7,8]\n",
        "list3 = list1 + list2\n",
        "print(list3)"
      ],
      "execution_count": null,
      "outputs": [
        {
          "output_type": "stream",
          "text": [
            "[1, 2, 3, 4, 5, 6, 7, 8]\n"
          ],
          "name": "stdout"
        }
      ]
    },
    {
      "cell_type": "markdown",
      "metadata": {
        "id": "aziHXtPgjTG2"
      },
      "source": [
        "15)The code is shown below"
      ]
    },
    {
      "cell_type": "code",
      "metadata": {
        "colab": {
          "base_uri": "https://localhost:8080/"
        },
        "id": "PZcnmCDtjp38",
        "outputId": "a48bf843-c3fd-431d-f8ad-dd32bede9454"
      },
      "source": [
        "list1 = [1, 2, 3]\n",
        "list2 = [4, 5, 6]\n",
        "sum_list = []\n",
        "for (item1, item2) in zip(list1, list2):\n",
        "  sum_list.append(item1+item2)\n",
        "print(sum_list)"
      ],
      "execution_count": null,
      "outputs": [
        {
          "output_type": "stream",
          "text": [
            "[5, 7, 9]\n"
          ],
          "name": "stdout"
        }
      ]
    },
    {
      "cell_type": "markdown",
      "metadata": {
        "id": "0SAgY2mUj21-"
      },
      "source": [
        "16) In Python dictionary, del keyword is used to delete a particular element,whereas the clear() function is used to delete all the elements in a dictionary.\n",
        "\n",
        "17)The remove() method removes the first matching value from the list.The pop() method like del deletes value at a particular index. But pop() method returns deleted value from the list.\n",
        "\n",
        "18)Python append() method adds an element to a list, and the extend() method concatenates the first list with another list (or another iterable). When append() method adds its argument as a single element to the end of a list, the length of the list itself will increase by one, whereas extend() method iterates over its argument adding each element to the list, extending the list. The length of the list will increase by however many elements were in the iterable argument.\n",
        "\n",
        "19)Indexing means referring to an element of an iterable by its position within the iterable. Slicing means getting a subset of elements from an iterable based on their indices.\n",
        "\n",
        "20)The primary difference between the list sort() function and the sorted() function is that the sort() function will modify the list it is called on. The sorted() function will create a new list containing a sorted version of the list it is given. The sorted() function will not modify the list passed as a parameter.\n",
        "\n",
        "21)reverse() actually reverses the elements in the container. reversed() doesn't actually reverse anything, it merely returns an object that can be used to iterate over the container's elements in reverse order. \n",
        "\n",
        "22)A shallow copy constructs a new compound object and then (to the extent possible) inserts references into it to the objects found in the original.\n",
        "A deep copy constructs a new compound object and then, recursively, inserts copies into it of the objects found in the original.\n",
        "\n",
        "23)To remove the duplicates from a list, you can make use of the built-in function set(). The specialty of set() method is that it returns distinct elements.\n",
        "\n",
        "24)The index() method returns the index of the specified element in the list.\n",
        "The list index() method can take a maximum of three arguments:\n",
        "element - the element to be searched\n",
        "start (optional) - start searching from this index\n",
        "end (optional) - search the element up to this index\n",
        "\n",
        "25)The count() method returns the number of times the specified element appears in the list.\n",
        "The syntax of the count() method is:\n",
        "list.count(element)\n",
        "\n",
        "26)The list insert() method inserts an element to the list at the specified index.\n",
        "The syntax of the insert() method is\n",
        "list.insert(i, elem)\n",
        "\n",
        "27)The count(element) function returns the occurrence count of given element in the list. If its greater than 0, it means given element exists in list.Otherwise, it is not present in the list.\n",
        "\n",
        "28)Flattening a list of lists entails converting a 2D list into a 1D list by un-nesting each list item stored in the list of lists - i.e., converting [[1, 2, 3], [4, 5, 6], [7, 8, 9]] into [1, 2, 3, 4, 5, 6, 7, 8, 9]. To flatten a list:\n",
        "Iterate over the elements of the given list.\n",
        "If the element is a list then recursively call the same function again.\n",
        "If the element is not a list, then append the element to the flat_list\n",
        "\n",
        "\n",
        "29)List can be converted to :\n",
        "Tuple using tuple(list_name).\n",
        "Set using set().\n",
        "We can convert a Python list to a dictionary using a dictionary comprehension, dict.fromkeys(), or the zip() method. All three methods create a new dictionary. They do not modify the existing list.\n",
        "\n",
        "30)The standard solution is to use the map() function, which applies a function to every item of iterable and yield the results. \n",
        "\n",
        "31)Python has a built-in function called filter() that allows us to filter a list (or a tuple) in a more beautiful way. The filter() function iterates over the elements of the list and applies the function to each element. It returns an iterator for the elements where the function returns True .\n",
        "\n",
        "32)Instead of storing values in the memory space reserved by the variable, Python has the variable refer to the value. Lists are stored in distinct chunks of memory which are linked together with pointers, which enables efficient use of memory generally and doesn't require resizing.\n"
      ]
    },
    {
      "cell_type": "code",
      "metadata": {
        "id": "rFDFw6YL1uVx"
      },
      "source": [
        ""
      ],
      "execution_count": null,
      "outputs": []
    }
  ]
}