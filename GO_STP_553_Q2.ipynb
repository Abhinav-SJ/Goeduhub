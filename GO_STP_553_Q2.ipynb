{
  "nbformat": 4,
  "nbformat_minor": 0,
  "metadata": {
    "colab": {
      "name": "GO_STP_553_Q2.ipynb",
      "provenance": [],
      "collapsed_sections": []
    },
    "kernelspec": {
      "name": "python3",
      "display_name": "Python 3"
    },
    "language_info": {
      "name": "python"
    }
  },
  "cells": [
    {
      "cell_type": "code",
      "metadata": {
        "colab": {
          "base_uri": "https://localhost:8080/"
        },
        "id": "xbQ4gkM85SPc",
        "outputId": "41d90c35-4688-4c80-c9b7-3bb29c403415"
      },
      "source": [
        "score = float(input(\"Enter your score:\"))\n",
        "if(score < 40):\n",
        "  print(\"Score is Low\")\n",
        "elif(score > 60):\n",
        "  print(\"Score is Good\")\n",
        "else:\n",
        "  print(\"Score is Normal\")\n"
      ],
      "execution_count": 6,
      "outputs": [
        {
          "output_type": "stream",
          "text": [
            "Enter your score:45\n",
            "Score is Normal\n"
          ],
          "name": "stdout"
        }
      ]
    }
  ]
}