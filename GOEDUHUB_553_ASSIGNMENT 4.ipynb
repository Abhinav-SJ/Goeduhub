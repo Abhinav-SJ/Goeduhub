{
  "nbformat": 4,
  "nbformat_minor": 0,
  "metadata": {
    "colab": {
      "name": "task 4.ipynb",
      "provenance": [],
      "collapsed_sections": []
    },
    "kernelspec": {
      "name": "python3",
      "display_name": "Python 3"
    },
    "language_info": {
      "name": "python"
    }
  },
  "cells": [
    {
      "cell_type": "markdown",
      "metadata": {
        "id": "Yyiw75SHZBVU"
      },
      "source": [
        "# ID : GO_STP_553\n",
        "\n"
      ]
    },
    {
      "cell_type": "markdown",
      "metadata": {
        "id": "a1WePBFMYnSD"
      },
      "source": [
        "# Assignment/Task 4\n",
        "\n",
        "Question on Numpy-"
      ]
    },
    {
      "cell_type": "markdown",
      "metadata": {
        "id": "4ZsGZWYqZXxG"
      },
      "source": [
        "1. Import the numpy package under the name np and Print the numpy version and the configuration "
      ]
    },
    {
      "cell_type": "code",
      "metadata": {
        "colab": {
          "base_uri": "https://localhost:8080/",
          "height": 35
        },
        "id": "bbMpEkuVYzCy",
        "outputId": "92f173b6-660b-40ca-ef31-c38a7d41db2c"
      },
      "source": [
        "import numpy as np\n",
        "np.__version__"
      ],
      "execution_count": 1,
      "outputs": [
        {
          "output_type": "execute_result",
          "data": {
            "application/vnd.google.colaboratory.intrinsic+json": {
              "type": "string"
            },
            "text/plain": [
              "'1.19.5'"
            ]
          },
          "metadata": {
            "tags": []
          },
          "execution_count": 1
        }
      ]
    },
    {
      "cell_type": "markdown",
      "metadata": {
        "id": "Hi2NQxkta4Yz"
      },
      "source": [
        "2. Create a null vector of size 10"
      ]
    },
    {
      "cell_type": "code",
      "metadata": {
        "colab": {
          "base_uri": "https://localhost:8080/"
        },
        "id": "z9g7qBjqZfRJ",
        "outputId": "4d14aba0-ca23-4d01-ef0e-fe29aa278d09"
      },
      "source": [
        "a = np.zeros(10)\n",
        "a"
      ],
      "execution_count": 2,
      "outputs": [
        {
          "output_type": "execute_result",
          "data": {
            "text/plain": [
              "array([0., 0., 0., 0., 0., 0., 0., 0., 0., 0.])"
            ]
          },
          "metadata": {
            "tags": []
          },
          "execution_count": 2
        }
      ]
    },
    {
      "cell_type": "markdown",
      "metadata": {
        "id": "GQ1pSeUHbVZN"
      },
      "source": [
        "3. Create Simple 1-D array and check type and check data types in array"
      ]
    },
    {
      "cell_type": "code",
      "metadata": {
        "colab": {
          "base_uri": "https://localhost:8080/"
        },
        "id": "BHWPi8-MZ9Re",
        "outputId": "509f4f98-3d01-45d5-8bab-de0e6e53d100"
      },
      "source": [
        "a = np.array([1.2,2.3,4.3,5.4,5.6])\n",
        "print(a)\n",
        "print(type(a))\n",
        "print(a.dtype)"
      ],
      "execution_count": 3,
      "outputs": [
        {
          "output_type": "stream",
          "text": [
            "[1.2 2.3 4.3 5.4 5.6]\n",
            "<class 'numpy.ndarray'>\n",
            "float64\n"
          ],
          "name": "stdout"
        }
      ]
    },
    {
      "cell_type": "markdown",
      "metadata": {
        "id": "uIcy5PQAcNJn"
      },
      "source": [
        "4. How to find number of dimensions, bytes per element and bytes of memory used?"
      ]
    },
    {
      "cell_type": "code",
      "metadata": {
        "colab": {
          "base_uri": "https://localhost:8080/"
        },
        "id": "DfK6szp2b4eG",
        "outputId": "dd735e37-fb8c-4d08-c45c-8f3629ae268e"
      },
      "source": [
        "import sys\n",
        "a = np.array([[1.2,2.3,4.3,5.4,5.6],[1.2,2.3,4.3,5.4,5.6]])\n",
        "print(a.ndim)\n",
        "print(a.itemsize)\n",
        "print(a.size)\n",
        "print(a.size*a.itemsize)"
      ],
      "execution_count": 4,
      "outputs": [
        {
          "output_type": "stream",
          "text": [
            "2\n",
            "8\n",
            "10\n",
            "80\n"
          ],
          "name": "stdout"
        }
      ]
    },
    {
      "cell_type": "markdown",
      "metadata": {
        "id": "HF_NX6YYdpwa"
      },
      "source": [
        "5. Create a null vector of size 10 but the fifth value which is 1"
      ]
    },
    {
      "cell_type": "code",
      "metadata": {
        "colab": {
          "base_uri": "https://localhost:8080/"
        },
        "id": "apAybYGBcu3d",
        "outputId": "351e3e3d-7051-4868-c027-405c7e9d543b"
      },
      "source": [
        "a=np.zeros(10)\n",
        "a[4]=1\n",
        "a"
      ],
      "execution_count": 5,
      "outputs": [
        {
          "output_type": "execute_result",
          "data": {
            "text/plain": [
              "array([0., 0., 0., 0., 1., 0., 0., 0., 0., 0.])"
            ]
          },
          "metadata": {
            "tags": []
          },
          "execution_count": 5
        }
      ]
    },
    {
      "cell_type": "markdown",
      "metadata": {
        "id": "pQFHeJA3fd4V"
      },
      "source": [
        "6. Create a vector with values ranging from 10 to 49"
      ]
    },
    {
      "cell_type": "code",
      "metadata": {
        "colab": {
          "base_uri": "https://localhost:8080/"
        },
        "id": "ZPQg2YXTfM2c",
        "outputId": "599be594-e1a8-4c2d-e3cb-e6532637b634"
      },
      "source": [
        "a=np.arange(10,50)\n",
        "a"
      ],
      "execution_count": 7,
      "outputs": [
        {
          "output_type": "execute_result",
          "data": {
            "text/plain": [
              "array([10, 11, 12, 13, 14, 15, 16, 17, 18, 19, 20, 21, 22, 23, 24, 25, 26,\n",
              "       27, 28, 29, 30, 31, 32, 33, 34, 35, 36, 37, 38, 39, 40, 41, 42, 43,\n",
              "       44, 45, 46, 47, 48, 49])"
            ]
          },
          "metadata": {
            "tags": []
          },
          "execution_count": 7
        }
      ]
    },
    {
      "cell_type": "markdown",
      "metadata": {
        "id": "ipK1LrX2fsr2"
      },
      "source": [
        ""
      ]
    },
    {
      "cell_type": "markdown",
      "metadata": {
        "id": "wFBu2u8ifxeI"
      },
      "source": [
        "7. Reverse a vector (first element becomes last)"
      ]
    },
    {
      "cell_type": "code",
      "metadata": {
        "colab": {
          "base_uri": "https://localhost:8080/"
        },
        "id": "5lVH_Is7flRs",
        "outputId": "12110ac2-e4e5-42f9-f832-32781b9d5cf8"
      },
      "source": [
        "a=np.arange(10,50)\n",
        "print(a[::-1])"
      ],
      "execution_count": 8,
      "outputs": [
        {
          "output_type": "stream",
          "text": [
            "[49 48 47 46 45 44 43 42 41 40 39 38 37 36 35 34 33 32 31 30 29 28 27 26\n",
            " 25 24 23 22 21 20 19 18 17 16 15 14 13 12 11 10]\n"
          ],
          "name": "stdout"
        }
      ]
    },
    {
      "cell_type": "markdown",
      "metadata": {
        "id": "nh8SZEmohAHZ"
      },
      "source": [
        "8. Create a 3x3 matrix with values ranging from 0 to 8"
      ]
    },
    {
      "cell_type": "code",
      "metadata": {
        "colab": {
          "base_uri": "https://localhost:8080/"
        },
        "id": "8JPWbwSNgATB",
        "outputId": "28301a74-e8df-481f-9d2a-3007771840a6"
      },
      "source": [
        "a=np.arange(9)\n",
        "print(a.reshape(3,3))"
      ],
      "execution_count": 9,
      "outputs": [
        {
          "output_type": "stream",
          "text": [
            "[[0 1 2]\n",
            " [3 4 5]\n",
            " [6 7 8]]\n"
          ],
          "name": "stdout"
        }
      ]
    },
    {
      "cell_type": "markdown",
      "metadata": {
        "id": "6q3HyjBVhXaH"
      },
      "source": [
        "9. Find indices of non-zero elements from [1,2,0,0,4,0]"
      ]
    },
    {
      "cell_type": "code",
      "metadata": {
        "colab": {
          "base_uri": "https://localhost:8080/"
        },
        "id": "CQlapyZEhKYM",
        "outputId": "69827b01-9579-4440-8ffe-ec319448e437"
      },
      "source": [
        "a=np.array([1,2,0,0,4,0])\n",
        "np.where(a!=0)"
      ],
      "execution_count": 10,
      "outputs": [
        {
          "output_type": "execute_result",
          "data": {
            "text/plain": [
              "(array([0, 1, 4]),)"
            ]
          },
          "metadata": {
            "tags": []
          },
          "execution_count": 10
        }
      ]
    },
    {
      "cell_type": "markdown",
      "metadata": {
        "id": "mPFW_-lxkqrv"
      },
      "source": [
        "10. Create a 3x3 identity matrix"
      ]
    },
    {
      "cell_type": "code",
      "metadata": {
        "colab": {
          "base_uri": "https://localhost:8080/"
        },
        "id": "3lBVDfW1heT5",
        "outputId": "43b07f4c-4a39-439e-c4b7-2fb8465779fd"
      },
      "source": [
        "print(np.eye(3))"
      ],
      "execution_count": 11,
      "outputs": [
        {
          "output_type": "stream",
          "text": [
            "[[1. 0. 0.]\n",
            " [0. 1. 0.]\n",
            " [0. 0. 1.]]\n"
          ],
          "name": "stdout"
        }
      ]
    },
    {
      "cell_type": "markdown",
      "metadata": {
        "id": "_ZVclZfMk32Z"
      },
      "source": [
        "11. Create a 3x3x3 array with random values"
      ]
    },
    {
      "cell_type": "code",
      "metadata": {
        "colab": {
          "base_uri": "https://localhost:8080/"
        },
        "id": "M4GtHR8GkxT3",
        "outputId": "7fd959f5-cf15-45e9-e0c3-82424e0d8a72"
      },
      "source": [
        "import random\n",
        "\n",
        "a=np.random.random((3,3,3))\n",
        "a"
      ],
      "execution_count": 12,
      "outputs": [
        {
          "output_type": "execute_result",
          "data": {
            "text/plain": [
              "array([[[0.54858118, 0.49710727, 0.72224738],\n",
              "        [0.4138759 , 0.79581185, 0.53716204],\n",
              "        [0.91630218, 0.86636628, 0.2519889 ]],\n",
              "\n",
              "       [[0.29219099, 0.97628116, 0.04110224],\n",
              "        [0.87077053, 0.71957693, 0.73090141],\n",
              "        [0.84489925, 0.69673369, 0.36343071]],\n",
              "\n",
              "       [[0.96276685, 0.20449496, 0.95973628],\n",
              "        [0.32251369, 0.32530395, 0.11024314],\n",
              "        [0.09707576, 0.90800502, 0.45039624]]])"
            ]
          },
          "metadata": {
            "tags": []
          },
          "execution_count": 12
        }
      ]
    },
    {
      "cell_type": "markdown",
      "metadata": {
        "id": "5--OSDh6lumx"
      },
      "source": [
        "12. Create a 10x10 array with random values and find the minimum and maximum values"
      ]
    },
    {
      "cell_type": "code",
      "metadata": {
        "colab": {
          "base_uri": "https://localhost:8080/"
        },
        "id": "GQsFWT_VlT9X",
        "outputId": "8442dd74-4e7c-4c62-d680-5b9a921170ad"
      },
      "source": [
        "import random\n",
        "a=np.random.random((10,10))\n",
        "print(a,\"\\n\\n\")\n",
        "print(a.max(),a.min())"
      ],
      "execution_count": 13,
      "outputs": [
        {
          "output_type": "stream",
          "text": [
            "[[0.69110153 0.84820986 0.84916882 0.44698564 0.92200757 0.2315953\n",
            "  0.72653178 0.55074766 0.5907599  0.26335825]\n",
            " [0.56565986 0.04823271 0.04685146 0.49318802 0.00184218 0.19567751\n",
            "  0.9526842  0.52565334 0.01572608 0.56508913]\n",
            " [0.05176745 0.24031126 0.61518428 0.5869711  0.04017833 0.59394192\n",
            "  0.79933882 0.26913794 0.2439409  0.69417194]\n",
            " [0.93282929 0.96216712 0.07595735 0.83891925 0.29739039 0.95674402\n",
            "  0.86220255 0.67937347 0.23162551 0.03797867]\n",
            " [0.84413251 0.13172863 0.9613381  0.87787582 0.70257026 0.32033603\n",
            "  0.97653719 0.44913716 0.44688624 0.84903918]\n",
            " [0.05457486 0.87995159 0.29537185 0.36009847 0.64764031 0.92413002\n",
            "  0.31273918 0.47707087 0.73160882 0.06809845]\n",
            " [0.01158207 0.92815709 0.95452431 0.53336953 0.74212134 0.72392294\n",
            "  0.99041011 0.43318612 0.383238   0.92623901]\n",
            " [0.70527947 0.82732865 0.25080372 0.46262034 0.76658824 0.49552197\n",
            "  0.69108937 0.01927025 0.56991977 0.41865143]\n",
            " [0.02011541 0.85863769 0.30837778 0.61960799 0.8622568  0.07380609\n",
            "  0.38213939 0.83450789 0.69048427 0.51693987]\n",
            " [0.74180497 0.17095767 0.6769733  0.43161544 0.67946607 0.8296918\n",
            "  0.69527187 0.9376621  0.13601447 0.967063  ]] \n",
            "\n",
            "\n",
            "0.9904101061474075 0.001842180426654516\n"
          ],
          "name": "stdout"
        }
      ]
    },
    {
      "cell_type": "markdown",
      "metadata": {
        "id": "AMwpX4U5mO3z"
      },
      "source": [
        "13. Create a random vector of size 30 and find the mean value"
      ]
    },
    {
      "cell_type": "code",
      "metadata": {
        "colab": {
          "base_uri": "https://localhost:8080/"
        },
        "id": "GXPVvIkll7tf",
        "outputId": "393c39b5-75aa-4af9-a964-fb7aaad2517d"
      },
      "source": [
        "import random\n",
        "a=np.random.random(30)\n",
        "print(a)\n",
        "a.mean()"
      ],
      "execution_count": 14,
      "outputs": [
        {
          "output_type": "stream",
          "text": [
            "[0.7803995  0.84315898 0.79159783 0.95863841 0.53583491 0.86801631\n",
            " 0.42399192 0.58781975 0.7677723  0.34088351 0.79374336 0.33604107\n",
            " 0.95885401 0.51484041 0.43374917 0.54717464 0.77034438 0.39051986\n",
            " 0.8796857  0.45122213 0.33938275 0.05689104 0.21871479 0.65899972\n",
            " 0.90407304 0.40674305 0.0361648  0.97908033 0.84109734 0.11568635]\n"
          ],
          "name": "stdout"
        },
        {
          "output_type": "execute_result",
          "data": {
            "text/plain": [
              "0.5843707121031391"
            ]
          },
          "metadata": {
            "tags": []
          },
          "execution_count": 14
        }
      ]
    },
    {
      "cell_type": "markdown",
      "metadata": {
        "id": "_Sz-hZ1xmitl"
      },
      "source": [
        "14 . Create a 2d array with 1 on the border and 0 inside"
      ]
    },
    {
      "cell_type": "code",
      "metadata": {
        "colab": {
          "base_uri": "https://localhost:8080/"
        },
        "id": "fNZL-mBnmYLf",
        "outputId": "4e9cb9dc-92d1-4c91-c128-e2c56d1fc6ba"
      },
      "source": [
        "a=np.zeros((5,6))\n",
        "m,n=a.shape\n",
        "for i in range(m):\n",
        "  for j in range(n):\n",
        "    a[i][0]=1\n",
        "    a[0][j]=1\n",
        "    a[m-1][j]=1\n",
        "    a[i][n-1]=1\n",
        "print(a)"
      ],
      "execution_count": 18,
      "outputs": [
        {
          "output_type": "stream",
          "text": [
            "[[1. 1. 1. 1. 1. 1.]\n",
            " [1. 0. 0. 0. 0. 1.]\n",
            " [1. 0. 0. 0. 0. 1.]\n",
            " [1. 0. 0. 0. 0. 1.]\n",
            " [1. 1. 1. 1. 1. 1.]]\n"
          ],
          "name": "stdout"
        }
      ]
    },
    {
      "cell_type": "markdown",
      "metadata": {
        "id": "GaOrsgKMqYvu"
      },
      "source": [
        "15. How to add a border (filled with 0's) around an existing array? "
      ]
    },
    {
      "cell_type": "code",
      "metadata": {
        "colab": {
          "base_uri": "https://localhost:8080/"
        },
        "id": "lkq6TVGqnUiN",
        "outputId": "9acf7fa6-25ad-4bc8-bf22-67508417ed28"
      },
      "source": [
        "import numpy as np\n",
        "a = np.ones((3,3))\n",
        "print(a,\"\\n\\n\")\n",
        "a = np.pad(a, pad_width=1, mode='constant', constant_values=0)\n",
        "print(a)"
      ],
      "execution_count": 21,
      "outputs": [
        {
          "output_type": "stream",
          "text": [
            "[[1. 1. 1.]\n",
            " [1. 1. 1.]\n",
            " [1. 1. 1.]] \n",
            "\n",
            "\n",
            "[[0. 0. 0. 0. 0.]\n",
            " [0. 1. 1. 1. 0.]\n",
            " [0. 1. 1. 1. 0.]\n",
            " [0. 1. 1. 1. 0.]\n",
            " [0. 0. 0. 0. 0.]]\n"
          ],
          "name": "stdout"
        }
      ]
    },
    {
      "cell_type": "markdown",
      "metadata": {
        "id": "9-_onX2xsVzT"
      },
      "source": [
        "# 16. How to Accessing/Changing specific elements, rows, columns, etc in Numpy array?    \n",
        "Example -\n",
        "[[ 1 2 3 4 5 6 7] [ 8 9 10 11 12 13 14]]  \n",
        "\n",
        "Get 13, get first row only, get 3rd column only, get [2, 4, 6], replace 13 by 20"
      ]
    },
    {
      "cell_type": "code",
      "metadata": {
        "colab": {
          "base_uri": "https://localhost:8080/"
        },
        "id": "r22jirZ-q86j",
        "outputId": "e49e07c1-2c45-4166-a97f-6fce4acb30e0"
      },
      "source": [
        "a=[[ 1,2,3,4,5,6, 7],[ 8 ,9 ,10 ,11 ,12 ,13 ,14]]\n",
        "a[1][5]=20\n",
        "a"
      ],
      "execution_count": 22,
      "outputs": [
        {
          "output_type": "execute_result",
          "data": {
            "text/plain": [
              "[[1, 2, 3, 4, 5, 6, 7], [8, 9, 10, 11, 12, 20, 14]]"
            ]
          },
          "metadata": {
            "tags": []
          },
          "execution_count": 22
        }
      ]
    },
    {
      "cell_type": "markdown",
      "metadata": {
        "id": "j_1KpOqCtUrA"
      },
      "source": [
        "17. How to Convert a 1D array to a 2D array with 2 rows"
      ]
    },
    {
      "cell_type": "code",
      "metadata": {
        "colab": {
          "base_uri": "https://localhost:8080/"
        },
        "id": "rGWNPWGhsw7z",
        "outputId": "5fc7a85d-ef3b-4095-9c7b-8ba0c8f14b1c"
      },
      "source": [
        "a=np.ones(10)\n",
        "a.reshape(2,5)"
      ],
      "execution_count": 23,
      "outputs": [
        {
          "output_type": "execute_result",
          "data": {
            "text/plain": [
              "array([[1., 1., 1., 1., 1.],\n",
              "       [1., 1., 1., 1., 1.]])"
            ]
          },
          "metadata": {
            "tags": []
          },
          "execution_count": 23
        }
      ]
    },
    {
      "cell_type": "markdown",
      "metadata": {
        "id": "FiwEiDA3x3QG"
      },
      "source": [
        "Create the following pattern without hardcoding. Use only numpy functions and the below input array a.  \n",
        "Input:\n",
        "\n",
        "a = np.array([1,2,3])`\n",
        "\n",
        "Desired Output:\n",
        "\n",
        "array([1, 1, 1, 2, 2, 2, 3, 3, 3, 1, 2, 3, 1, 2, 3, 1, 2, 3])"
      ]
    },
    {
      "cell_type": "code",
      "metadata": {
        "colab": {
          "base_uri": "https://localhost:8080/"
        },
        "id": "x-HiotD_xt1b",
        "outputId": "bfc4ecd6-7157-4ffb-a8b0-55d6dba21d96"
      },
      "source": [
        "a = np.array([1,2,3])\n",
        "a=np.append(np.repeat(a,3),np.tile(a,3))\n",
        "a"
      ],
      "execution_count": 24,
      "outputs": [
        {
          "output_type": "execute_result",
          "data": {
            "text/plain": [
              "array([1, 1, 1, 2, 2, 2, 3, 3, 3, 1, 2, 3, 1, 2, 3, 1, 2, 3])"
            ]
          },
          "metadata": {
            "tags": []
          },
          "execution_count": 24
        }
      ]
    },
    {
      "cell_type": "markdown",
      "metadata": {
        "id": "3MQ-mA8I1C4P"
      },
      "source": [
        "19.Write a program to show how Numpy taking less memory compared to Python List?"
      ]
    },
    {
      "cell_type": "code",
      "metadata": {
        "colab": {
          "base_uri": "https://localhost:8080/"
        },
        "id": "4iClM5w_yM5g",
        "outputId": "a9af9679-ec81-4d2f-fa53-4d0d433c7848"
      },
      "source": [
        "import sys\n",
        "l=[i for i in range(1000)]\n",
        "print(\"for list:\",sys.getsizeof(10)*len(l))\n",
        "arr=np.arange(1000)\n",
        "print(\"for nparray:\",arr.itemsize*len(arr))\n",
        "arr[0]"
      ],
      "execution_count": 25,
      "outputs": [
        {
          "output_type": "stream",
          "text": [
            "for list: 28000\n",
            "for nparray: 8000\n"
          ],
          "name": "stdout"
        },
        {
          "output_type": "execute_result",
          "data": {
            "text/plain": [
              "0"
            ]
          },
          "metadata": {
            "tags": []
          },
          "execution_count": 25
        }
      ]
    },
    {
      "cell_type": "markdown",
      "metadata": {
        "id": "WSw1m3be4Hhp"
      },
      "source": [
        "20. Write a program to show how Numpy taking less time compared to Python List?"
      ]
    },
    {
      "cell_type": "code",
      "metadata": {
        "colab": {
          "base_uri": "https://localhost:8080/"
        },
        "id": "vvb2Sl3Z2Jyu",
        "outputId": "ec6ac6dd-b2b7-4fa5-8cbf-9a7faca51d84"
      },
      "source": [
        "import time\n",
        "import sys\n",
        "\n",
        "l1=[i for i in range(1000)]\n",
        "l2=[i for i in range(1000)]\n",
        "start=time.time()\n",
        "l1+l2\n",
        "print(\"for list:\",(time.time()-start)*1000)\n",
        "arr1=np.arange(1000)\n",
        "arr2=np.arange(1000)\n",
        "start=time.time()\n",
        "arr1+arr2\n",
        "print(\"for nparray:\",(time.time()-start)*1000)"
      ],
      "execution_count": 26,
      "outputs": [
        {
          "output_type": "stream",
          "text": [
            "for list: 0.051021575927734375\n",
            "for nparray: 0.1010894775390625\n"
          ],
          "name": "stdout"
        }
      ]
    },
    {
      "cell_type": "code",
      "metadata": {
        "id": "Ir_BYDEg5Bxk"
      },
      "source": [
        ""
      ],
      "execution_count": null,
      "outputs": []
    }
  ]
}